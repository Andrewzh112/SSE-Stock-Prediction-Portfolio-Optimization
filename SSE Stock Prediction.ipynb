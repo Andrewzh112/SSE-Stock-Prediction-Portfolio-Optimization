{
 "cells": [
  {
   "cell_type": "code",
   "execution_count": 3,
   "metadata": {},
   "outputs": [],
   "source": [
    "import pandas as pd\n",
    "pd.set_option('display.float_format', lambda x: '%.2f' % x)\n",
    "import numpy as np\n",
    "\n",
    "import time\n",
    "import matplotlib.pyplot as plt\n",
    "import re\n",
    "import pickle\n",
    "from collections import deque\n",
    "import random\n",
    "import time\n",
    "import tensorflow as tf\n",
    "from tensorflow.keras.models import Sequential\n",
    "from tensorflow.keras.layers import Dense, LSTM, BatchNormalization, Dropout, TimeDistributed\n",
    "from tensorflow.keras.callbacks import TensorBoard, ModelCheckpoint\n",
    "tf.compat.v1.logging.set_verbosity(tf.compat.v1.logging.ERROR)\n",
    "\n",
    "from sklearn.preprocessing import MinMaxScaler\n",
    "from sklearn.metrics import mean_squared_error, r2_score, f1_score, accuracy_score, roc_curve, roc_auc_score, precision_score\n",
    "from xgboost import XGBClassifier\n",
    "from sklearn.linear_model import LogisticRegression\n",
    "from sklearn.ensemble import RandomForestClassifier\n",
    "from sklearn import svm\n",
    "\n",
    "from gurobipy import GRB, Model\n",
    "\n",
    "import warnings \n",
    "warnings.filterwarnings('ignore')\n",
    "import os\n",
    "import glob"
   ]
  },
  {
   "cell_type": "code",
   "execution_count": 4,
   "metadata": {},
   "outputs": [],
   "source": [
    "EPOCHS = 40\n",
    "BATCH_SIZE = 8\n",
    "LOOKFORWARD = 5\n",
    "WINDOW = 15"
   ]
  },
  {
   "cell_type": "code",
   "execution_count": 5,
   "metadata": {},
   "outputs": [],
   "source": [
    "def load_files(folder):\n",
    "    path = r\"{}/*.csv\".format(folder)\n",
    "    df_list = {}\n",
    "    for fname in glob.glob(path):\n",
    "        df=pd.read_csv(fname)\n",
    "        stock_name = re.findall(r'SH\\d{6}', fname)[0]\n",
    "        df_list[stock_name] = df\n",
    "    return df_list"
   ]
  },
  {
   "cell_type": "code",
   "execution_count": 6,
   "metadata": {},
   "outputs": [],
   "source": [
    "engineered_features_list = load_files('engineered features')\n",
    "raw_list = load_files('raw data')"
   ]
  },
  {
   "cell_type": "code",
   "execution_count": 7,
   "metadata": {},
   "outputs": [],
   "source": [
    "def MA_std(df, col='Close', ranges=[5, 7, 15], std=True, custom=''):\n",
    "    for i in ranges:\n",
    "        df[f'{custom}MA_{i}lag'] = df[col].rolling(window=i).mean().shift(1)\n",
    "        if std:\n",
    "            df[f'{custom}MA_{i}_lag_std'] = df[col].rolling(window=i).std().shift(1)\n",
    "\n",
    "def BB(df, std=2, ranges=[5, 7, 15]):\n",
    "    for i in ranges:\n",
    "        df[f'MA_{i}_BB_lag_high'] = df[f'MA_{i}lag'] + std * df[f'MA_{i}_lag_std']\n",
    "        df[f'MA_{i}_BB_lag_low'] = df[f'MA_{i}lag'] - std * df[f'MA_{i}_lag_std']"
   ]
  },
  {
   "cell_type": "code",
   "execution_count": 8,
   "metadata": {},
   "outputs": [],
   "source": [
    "def get_response(df, days=5, categorical=True):\n",
    "    if categorical:\n",
    "        target = ((df['Close'].shift(-(days - 1)) - df['Close'] - 0.00065 * df['Close'] - 0.00065 * df['Close'].shift(-(days - 1))) > 0).astype(float)\n",
    "        return target\n",
    "    return (df['Close'].shift(-(days - 1)) - df['Close']) / df['Close'] * 100"
   ]
  },
  {
   "cell_type": "code",
   "execution_count": 9,
   "metadata": {},
   "outputs": [],
   "source": [
    "def resample(sequential_data):\n",
    "    buys = []\n",
    "    sells = []\n",
    "    for seq, target in sequential_data:\n",
    "        if target == 0:\n",
    "            sells.append([seq, target])\n",
    "        else:\n",
    "            buys.append([seq, target])\n",
    "    if len(buys) > len(sells):\n",
    "        sells = [[sells[i][0], sells[i][1]] for i in np.random.randint(len(sells), size=len(buys))]\n",
    "    elif len(buys) < len(sells):\n",
    "        buys = [[buys[i][0], buys[i][1]] for i in np.random.randint(len(buys), size=len(sells))]\n",
    "    sequential_data = list(buys) + list(sells)\n",
    "    random.shuffle(sequential_data)\n",
    "    return sequential_data"
   ]
  },
  {
   "cell_type": "code",
   "execution_count": 10,
   "metadata": {},
   "outputs": [],
   "source": [
    "def split_data(sequential_data):\n",
    "    x, y = [], []\n",
    "    for seq, target in sequential_data:\n",
    "        x.append(seq)\n",
    "        y.append(target)\n",
    "    return x, y"
   ]
  },
  {
   "cell_type": "code",
   "execution_count": 11,
   "metadata": {},
   "outputs": [],
   "source": [
    "def preprocessing(df, days, window, scaler=None, resample_data=True):\n",
    "    #normalize data\n",
    "    dataframe = df.copy()\n",
    "    dataframe.set_index('Time', inplace=True)\n",
    "    target = dataframe[f'{days}day_Up']\n",
    "    dataframe.drop(f'{days}day_Up', axis = 1, inplace = True)\n",
    "    dataframe = dataframe.replace(to_replace=0, method='ffill')\n",
    "    for col in dataframe.columns:\n",
    "        dataframe[col] = dataframe[col].pct_change()\n",
    "    \n",
    "    #scaling\n",
    "    newscale = False\n",
    "    if scaler is None:\n",
    "        newscale = True\n",
    "        scaler = MinMaxScaler()\n",
    "    columns = dataframe.columns \n",
    "    dataframe = dataframe.replace([np.inf, -np.inf, 0], method='ffill')\n",
    "    dataframe = dataframe.dropna()\n",
    "    Time = dataframe.index.values\n",
    "    if newscale:\n",
    "        scaled_df = scaler.fit(dataframe)\n",
    "    scaled_df = scaler.transform(dataframe)\n",
    "    scaled_df = pd.DataFrame(scaled_df, columns = columns, index = Time)\n",
    "    scaled_df = scaled_df.merge(target, how='left', left_index=True, right_index=True)\n",
    "    \n",
    "    #building sequences\n",
    "    sequential_data = []\n",
    "    prev_days = deque(maxlen = window)\n",
    "    for i in scaled_df.values:\n",
    "        prev_days.append([n for n in i[:-1]])\n",
    "        if len(prev_days) == window:\n",
    "            sequential_data.append([np.array(prev_days), i[-1]])\n",
    "    if resample_data:\n",
    "        sequential_data = resample(sequential_data)\n",
    "    \n",
    "    x, y = split_data(sequential_data)\n",
    "    return np.array(x), y, scaler"
   ]
  },
  {
   "cell_type": "code",
   "execution_count": 12,
   "metadata": {},
   "outputs": [],
   "source": [
    "def OOT_spilt(df):\n",
    "    stock_df = df.copy()\n",
    "    stock_df.set_index('Time', inplace=True)\n",
    "    stock_df_intime = stock_df.loc[:'Day504',:].reset_index()\n",
    "    stock_df_OOT = stock_df.loc['Day490':,:].reset_index()\n",
    "    return stock_df_intime, stock_df_OOT"
   ]
  },
  {
   "cell_type": "code",
   "execution_count": 13,
   "metadata": {},
   "outputs": [],
   "source": [
    "def get_dataframe(df1, df2, days, window):\n",
    "    MA_std(df2)\n",
    "    BB(df2)\n",
    "    MA_std(df2, col='Volume', std=False, custom='V')\n",
    "    stock_df = df2.merge(df1, how='inner', left_on='Time', right_on='Unnamed: 0')\n",
    "    stock_df.drop(['Unnamed: 0','MA5lag','MA15lag'], axis=1, inplace=True)\n",
    "    stock_df[f'{days}day_Up'] = get_response(df2,days=days,categorical=True)\n",
    "    \n",
    "    intime_df, oot_df = OOT_spilt(stock_df)\n",
    "    \n",
    "    #normalizing and scaling\n",
    "    X_train, y_train, scaler = preprocessing(intime_df, days, window)\n",
    "    X_test, y_test, _ = preprocessing(oot_df, days, window, scaler, resample_data=False)\n",
    "    return X_train, y_train, X_test, y_test"
   ]
  },
  {
   "cell_type": "code",
   "execution_count": 14,
   "metadata": {},
   "outputs": [],
   "source": [
    "def stocks_predictions(days=5, window=15, categorical=True, dense_size=32):\n",
    "    models = {}\n",
    "    num_stock = 0\n",
    "    for stock in engineered_features_list:\n",
    "        if num_stock % 10 == 0:\n",
    "            print(f'Working on stock {num_stock}')\n",
    "\n",
    "        name = f'{window}-WINDOW-{days}-PERIOD-{stock}'\n",
    "\n",
    "        X_train, y_train, X_test, y_test = get_dataframe(engineered_features_list[stock], raw_list[stock], days, window)\n",
    "\n",
    "        y_train = np.array(y_train)\n",
    "        y_test = np.array(y_test)\n",
    "\n",
    "        models[name] = LSTM_stock_model(X_train.shape[1:], dense_size)\n",
    "        opt = tf.keras.optimizers.Adam(lr=0.001, decay=1e-6)\n",
    "\n",
    "        models[name].compile(loss='binary_crossentropy',\n",
    "                            optimizer=opt,\n",
    "                            metrics=['accuracy','AUC'])\n",
    "        tensorboard = TensorBoard(log_dir=os.path.join('logs',name+'_'+str(dense_size)+'_'+str(days)+'_'+str(window)))\n",
    "        checkpoint_path = f\"models/training_{name}_{dense_size}_{days}_{window}/cp.ckpt\"\n",
    "        checkpoint_dir = os.path.dirname(checkpoint_path)\n",
    "        os.mkdir(checkpoint_dir)\n",
    "\n",
    "        # Create a callback that saves the model's weights\n",
    "        cp_callback = ModelCheckpoint(filepath=checkpoint_path, monitor='val_accuracy',\n",
    "                                      save_weights_only=True,verbose=0, \n",
    "                                      save_best_only=True, mode='max')\n",
    "        \n",
    "        history = models[name].fit(\n",
    "            X_train, y_train,\n",
    "            batch_size=BATCH_SIZE,\n",
    "            epochs=EPOCHS,\n",
    "            verbose=0,\n",
    "            validation_data=(X_test,y_test),\n",
    "            callbacks=[tensorboard, cp_callback])\n",
    "        num_stock += 1\n",
    "    \n",
    "        \n",
    "    return models"
   ]
  },
  {
   "cell_type": "code",
   "execution_count": 16,
   "metadata": {},
   "outputs": [],
   "source": [
    "def LSTM_stock_model(X_shape, dense_size):\n",
    "    return tf.keras.models.Sequential([\n",
    "    LSTM(128, input_shape=(X_shape), dropout=0.1, recurrent_dropout=0.1),\n",
    "    Dropout(0.2),\n",
    "    BatchNormalization(),\n",
    "    Dense(dense_size, activation='relu'),\n",
    "    Dropout(0.2),\n",
    "    Dense(1, activation='sigmoid')\n",
    "  ])"
   ]
  },
  {
   "cell_type": "code",
   "execution_count": 17,
   "metadata": {},
   "outputs": [],
   "source": [
    "def evaluate(stocks_model, days=5, window=15):\n",
    "    predictions = {}\n",
    "    f1_scores = {}\n",
    "    num_stock = 0\n",
    "    for stock, model in stocks_model.items():\n",
    "        if num_stock % 10 == 0:\n",
    "            print(f'Working on stock {num_stock}')\n",
    "        name = stock\n",
    "        stock = re.findall(r'-(SH\\d{6})', stock)[0]\n",
    "        _, _, X_test, y_test = get_dataframe(engineered_features_list[stock], raw_list[stock], days, window)\n",
    "        predictions[stock] = stocks_model[name].predict_proba(X_test)\n",
    "        ypred = predictions[stock] > 0.5\n",
    "        y_test = np.array(y_test).reshape(-1,1)\n",
    "        f1_scores[stock] = f1_score(y_test, ypred)\n",
    "        #add other metrics here AUC? Recall?\n",
    "        num_stock += 1\n",
    "    return predictions, f1_scores #,AUC, Recall"
   ]
  },
  {
   "cell_type": "code",
   "execution_count": 18,
   "metadata": {},
   "outputs": [],
   "source": [
    "def dicts_to_pickle(dictionary, name):\n",
    "    pickle.dump( dictionary, open( f\"{name}.p\", \"wb\" ) )\n",
    "    return"
   ]
  },
  {
   "cell_type": "code",
   "execution_count": 19,
   "metadata": {},
   "outputs": [],
   "source": [
    "def ml_stocks_predictions(model, days=5, window=15, categorical=True):\n",
    "    models = {}\n",
    "    num_stock = 0\n",
    "    for stock in engineered_features_list:\n",
    "        if num_stock % 10 == 0:\n",
    "            print(f'Working on stock {num_stock}')\n",
    "\n",
    "        name = f'{window}-WINDOW-{days}-PERIOD-{stock}'\n",
    "\n",
    "        X_train, y_train, X_test, y_test = get_dataframe(engineered_features_list[stock], raw_list[stock], days, window)\n",
    "        X_train = X_train.reshape(X_train.shape[0],-1)\n",
    "        y_train = np.array(y_train)\n",
    "        y_test = np.array(y_test)\n",
    "\n",
    "        models[name] = model#RandomForestClassifier()#svm.SVC(probability=True)#LogisticRegression()#XGBClassifier()\n",
    "        models[name].fit(X_train, y_train)\n",
    "        num_stock += 1\n",
    "    return models"
   ]
  },
  {
   "cell_type": "code",
   "execution_count": 20,
   "metadata": {},
   "outputs": [],
   "source": [
    "def ml_evaluate(stocks_model, days=5, window=15):\n",
    "    predictions = {}\n",
    "    f1_scores = {}\n",
    "    num_stock = 0\n",
    "    for stock, model in stocks_model.items():\n",
    "        if num_stock % 10 == 0:\n",
    "            print(f'Working on stock {num_stock}')\n",
    "        name = stock\n",
    "        stock = re.findall(r'-(SH\\d{6})', stock)[0]\n",
    "        _, _, X_test, y_test = get_dataframe(engineered_features_list[stock], raw_list[stock], days, window)\n",
    "        X_test = X_test.reshape(X_test.shape[0],-1)\n",
    "        predictions[stock] = stocks_model[name].predict_proba(X_test)[:,1]\n",
    "        ypred = predictions[stock] > 0.5\n",
    "        y_test = np.array(y_test).reshape(-1,1)\n",
    "        f1_scores[stock] = f1_score(y_test, ypred)\n",
    "        #add other metrics here AUC? Recall?\n",
    "        num_stock += 1\n",
    "    return predictions, f1_scores #,AUC, Recall"
   ]
  },
  {
   "cell_type": "code",
   "execution_count": 870,
   "metadata": {},
   "outputs": [
    {
     "name": "stdout",
     "output_type": "stream",
     "text": [
      "Working on stock 0\n",
      "Working on stock 10\n",
      "Working on stock 20\n",
      "Working on stock 30\n",
      "Working on stock 40\n"
     ]
    }
   ],
   "source": [
    "stocks_model = ml_stocks_predictions(model=RandomForestClassifier(), days=LOOKFORWARD, window=WINDOW)"
   ]
  },
  {
   "cell_type": "code",
   "execution_count": 871,
   "metadata": {},
   "outputs": [
    {
     "name": "stdout",
     "output_type": "stream",
     "text": [
      "Working on stock 0\n",
      "Working on stock 10\n",
      "Working on stock 20\n",
      "Working on stock 30\n",
      "Working on stock 40\n"
     ]
    }
   ],
   "source": [
    "predictions, f1_scores = ml_evaluate(stocks_model, days=LOOKFORWARD, window=WINDOW)"
   ]
  },
  {
   "cell_type": "code",
   "execution_count": 872,
   "metadata": {},
   "outputs": [
    {
     "data": {
      "text/plain": [
       "0.6249934642932756"
      ]
     },
     "execution_count": 872,
     "metadata": {},
     "output_type": "execute_result"
    }
   ],
   "source": [
    "np.array(list(f1_scores.values())).mean()"
   ]
  },
  {
   "cell_type": "code",
   "execution_count": null,
   "metadata": {},
   "outputs": [],
   "source": [
    "stocks_model = stocks_predictions(days=LOOKFORWARD, window=WINDOW, categorical=True, dense_size=32)"
   ]
  },
  {
   "cell_type": "code",
   "execution_count": 259,
   "metadata": {},
   "outputs": [
    {
     "name": "stdout",
     "output_type": "stream",
     "text": [
      "Working on stock 0\n",
      "Working on stock 10\n",
      "Working on stock 20\n",
      "Working on stock 30\n",
      "Working on stock 40\n"
     ]
    }
   ],
   "source": [
    "predictions, f1_scores = evaluate(stocks_model, days=LOOKFORWARD, window=WINDOW)"
   ]
  },
  {
   "cell_type": "code",
   "execution_count": 260,
   "metadata": {},
   "outputs": [
    {
     "data": {
      "text/plain": [
       "0.9431828925448399"
      ]
     },
     "execution_count": 260,
     "metadata": {},
     "output_type": "execute_result"
    }
   ],
   "source": [
    "np.array(list(f1_scores.values())).mean()"
   ]
  },
  {
   "cell_type": "code",
   "execution_count": null,
   "metadata": {},
   "outputs": [],
   "source": [
    "dicts = [predictions, f1_scores]\n",
    "names = ['predictions', 'f1_scores']\n",
    "for i in range(len(dicts)):\n",
    "    dicts_to_pickle(dicts[i], names[i])"
   ]
  },
  {
   "cell_type": "markdown",
   "metadata": {},
   "source": [
    "---"
   ]
  },
  {
   "cell_type": "markdown",
   "metadata": {},
   "source": [
    "# optimization"
   ]
  },
  {
   "cell_type": "code",
   "execution_count": 56,
   "metadata": {},
   "outputs": [],
   "source": [
    "def pickle_to_dicts(names):\n",
    "    return pickle.load( open( f\"{names}.p\", \"rb\" ) )"
   ]
  },
  {
   "cell_type": "code",
   "execution_count": 57,
   "metadata": {},
   "outputs": [],
   "source": [
    "predictions = pickle_to_dicts('predictions')\n",
    "f1_scores = pickle_to_dicts('f1_scores')"
   ]
  },
  {
   "cell_type": "code",
   "execution_count": 58,
   "metadata": {},
   "outputs": [],
   "source": [
    "for key in predictions:\n",
    "    scaler = MinMaxScaler(feature_range = (-1.5, 1))\n",
    "    predictions[key] = scaler.fit_transform(predictions[key].reshape(-1,1))"
   ]
  },
  {
   "cell_type": "code",
   "execution_count": 59,
   "metadata": {},
   "outputs": [],
   "source": [
    "def get_labels(raw_list):\n",
    "    stock_labels = {}\n",
    "    for stock in raw_list:\n",
    "        stock_df = raw_list[stock].copy()\n",
    "        stock_df['target'] = get_response(stock_df)\n",
    "        stock_df['rolling std'] = stock_df['Close'].rolling(90).std()\n",
    "        stock_df = stock_df.set_index('Time').loc['Day505':,:]\n",
    "        stock_df = stock_df[['Close', 'target', 'rolling std']]\n",
    "        stock_labels[stock] = stock_df.copy()\n",
    "    return stock_labels"
   ]
  },
  {
   "cell_type": "code",
   "execution_count": 60,
   "metadata": {},
   "outputs": [],
   "source": [
    "stock_labels = get_labels(raw_list)"
   ]
  },
  {
   "cell_type": "code",
   "execution_count": 65,
   "metadata": {},
   "outputs": [
    {
     "data": {
      "text/plain": [
       "0.7483857137966085"
      ]
     },
     "execution_count": 65,
     "metadata": {},
     "output_type": "execute_result"
    }
   ],
   "source": [
    "naive_trade_df, naive_holdings, naive_leftover = naive_trade(stock_labels, 0.2, 1)\n",
    "naive_sharpe_ratio, naive_asset_df = performance(naive_trade_df, naive_holdings, naive_leftover, stock_labels)\n",
    "naive_sharpe_ratio"
   ]
  },
  {
   "cell_type": "code",
   "execution_count": 66,
   "metadata": {},
   "outputs": [
    {
     "data": {
      "text/plain": [
       "122"
      ]
     },
     "execution_count": 66,
     "metadata": {},
     "output_type": "execute_result"
    }
   ],
   "source": [
    "(naive_asset_df.pnl > 0).sum()"
   ]
  },
  {
   "cell_type": "code",
   "execution_count": 67,
   "metadata": {},
   "outputs": [
    {
     "data": {
      "text/html": [
       "<div>\n",
       "<style scoped>\n",
       "    .dataframe tbody tr th:only-of-type {\n",
       "        vertical-align: middle;\n",
       "    }\n",
       "\n",
       "    .dataframe tbody tr th {\n",
       "        vertical-align: top;\n",
       "    }\n",
       "\n",
       "    .dataframe thead th {\n",
       "        text-align: right;\n",
       "    }\n",
       "</style>\n",
       "<table border=\"1\" class=\"dataframe\">\n",
       "  <thead>\n",
       "    <tr style=\"text-align: right;\">\n",
       "      <th></th>\n",
       "      <th>asset</th>\n",
       "      <th>pnl</th>\n",
       "    </tr>\n",
       "  </thead>\n",
       "  <tbody>\n",
       "    <tr>\n",
       "      <th>Day505</th>\n",
       "      <td>999870.09</td>\n",
       "      <td>nan</td>\n",
       "    </tr>\n",
       "    <tr>\n",
       "      <th>Day506</th>\n",
       "      <td>1000690.68</td>\n",
       "      <td>0.00</td>\n",
       "    </tr>\n",
       "    <tr>\n",
       "      <th>Day507</th>\n",
       "      <td>1000560.76</td>\n",
       "      <td>-0.00</td>\n",
       "    </tr>\n",
       "    <tr>\n",
       "      <th>Day508</th>\n",
       "      <td>995513.73</td>\n",
       "      <td>-0.01</td>\n",
       "    </tr>\n",
       "    <tr>\n",
       "      <th>Day509</th>\n",
       "      <td>989334.33</td>\n",
       "      <td>-0.01</td>\n",
       "    </tr>\n",
       "    <tr>\n",
       "      <th>...</th>\n",
       "      <td>...</td>\n",
       "      <td>...</td>\n",
       "    </tr>\n",
       "    <tr>\n",
       "      <th>Day752</th>\n",
       "      <td>1098881.81</td>\n",
       "      <td>-0.00</td>\n",
       "    </tr>\n",
       "    <tr>\n",
       "      <th>Day753</th>\n",
       "      <td>1098881.81</td>\n",
       "      <td>0.00</td>\n",
       "    </tr>\n",
       "    <tr>\n",
       "      <th>Day754</th>\n",
       "      <td>1098881.81</td>\n",
       "      <td>0.00</td>\n",
       "    </tr>\n",
       "    <tr>\n",
       "      <th>Day755</th>\n",
       "      <td>1098881.81</td>\n",
       "      <td>0.00</td>\n",
       "    </tr>\n",
       "    <tr>\n",
       "      <th>Day756</th>\n",
       "      <td>1098881.81</td>\n",
       "      <td>0.00</td>\n",
       "    </tr>\n",
       "  </tbody>\n",
       "</table>\n",
       "<p>252 rows × 2 columns</p>\n",
       "</div>"
      ],
      "text/plain": [
       "            asset   pnl\n",
       "Day505  999870.09   nan\n",
       "Day506 1000690.68  0.00\n",
       "Day507 1000560.76 -0.00\n",
       "Day508  995513.73 -0.01\n",
       "Day509  989334.33 -0.01\n",
       "...           ...   ...\n",
       "Day752 1098881.81 -0.00\n",
       "Day753 1098881.81  0.00\n",
       "Day754 1098881.81  0.00\n",
       "Day755 1098881.81  0.00\n",
       "Day756 1098881.81  0.00\n",
       "\n",
       "[252 rows x 2 columns]"
      ]
     },
     "execution_count": 67,
     "metadata": {},
     "output_type": "execute_result"
    }
   ],
   "source": [
    "naive_asset_df"
   ]
  },
  {
   "cell_type": "code",
   "execution_count": 26,
   "metadata": {},
   "outputs": [],
   "source": [
    "def naive(S, day, available_fund, diversify, risk_tolerance):\n",
    "    sd_dict = {s:stock_labels[s].loc[f'Day{day}', 'rolling std'] for s in S if stock_labels[s].loc[f'Day{day}', 'rolling std'] <= risk_tolerance}\n",
    "    full_share = 1\n",
    "    x = {s:0 for s in S}\n",
    "    prediction = {s:predictions[s][day - 505][0] for s in sd_dict.keys()}\n",
    "    best_predict = -float('inf')\n",
    "    best_stock = None\n",
    "    stocks_bought = []\n",
    "    while True:\n",
    "        for stock in prediction:\n",
    "            if stock in stocks_bought or prediction[stock] <= best_predict:\n",
    "                continue\n",
    "            best_predict = prediction[stock]\n",
    "            best_stock = stock\n",
    "        if full_share - diversify <= 0 or available_fund <= 1000:\n",
    "            shares = available_fund * diversify // stock_labels[best_stock].loc[f'Day{day}', 'Close']\n",
    "            x[best_stock] = shares\n",
    "            return x\n",
    "        full_share -= diversify\n",
    "        shares = available_fund * diversify // stock_labels[best_stock].loc[f'Day{day}', 'Close']\n",
    "        available_fund *= full_share\n",
    "        x[best_stock] = shares\n",
    "        stocks_bought.append(best_stock)\n",
    "        best_predict = -float('inf')\n",
    "        if full_share <= 0:\n",
    "            return x"
   ]
  },
  {
   "cell_type": "code",
   "execution_count": 27,
   "metadata": {},
   "outputs": [],
   "source": [
    "def naive_trade(stock_labels, risk_tolerance, diversify, fund=1000000, days=[d for d in range(505, 752)]):\n",
    "    S = list(stock_labels.keys())\n",
    "    holdings = deque()\n",
    "    leftover, selling = 0, 0\n",
    "    total_asset,stocknums = [], []\n",
    "    list_of_stocks = {}\n",
    "    for day in days:\n",
    "        if len(holdings) > 4:\n",
    "            list_of_stocks = holdings.popleft()\n",
    "            selling = sum(list_of_stocks[s]*stock_labels[s].loc[f'Day{day}', 'Close'] for s in S)*0.99935\n",
    "        if day < 510: \n",
    "            available_fund = fund / 5 + leftover\n",
    "        else:\n",
    "            available_fund = selling + leftover\n",
    "        x = naive(S, day, available_fund*0.99935, diversify, risk_tolerance)\n",
    "        holdings.append(x)\n",
    "        \n",
    "        leftover = available_fund - sum(x[s]*stock_labels[s].loc[f'Day{day}', 'Close'] for s in S) * 1.00065\n",
    "        \n",
    "        holding_total = 0\n",
    "        for holding in holdings:\n",
    "            holding_total += sum(holding[s]*stock_labels[s].loc[f'Day{day}', 'Close'] for s in S)\n",
    "        if len(holdings) < 5:\n",
    "            total_asset.append(round(leftover + fund*(5-(len(holdings)))/5 + holding_total, 2))\n",
    "        else:\n",
    "            total_asset.append(round(leftover + holding_total, 2))\n",
    "\n",
    "        stocknums.append([int(holding[s]) if holding[s] else 0 for s in S])\n",
    "\n",
    "    stock_buy_df = pd.DataFrame(stocknums, index=['Day'+str(d) for d in range(505, 752)], columns=S)\n",
    "    stock_buy_df['asset'] = total_asset\n",
    "    return stock_buy_df, holdings, leftover"
   ]
  },
  {
   "cell_type": "markdown",
   "metadata": {},
   "source": [
    "**Data:**\n",
    "- $S$: the set of stocks.\n",
    "- $D$: the set of trading days.\n",
    "- $f1_s$: the confidence score of stock $s$ model.\n",
    "- $p_{sd}$: the up predictor for stock $s$ on day $d$.\n",
    "- $c_{sd}$: the close price for stock $s$ on day $d$.\n",
    "- $v_{sd}$: the 90 day rolling standard deviation for stock $s$ on day $d$.\n",
    "- $a_{d}$: the available fund on day d.\n",
    "\n",
    "**Tuning Variables:**\n",
    "- $Q$: the maximum percentage of fund allocated on each stock.\n",
    "- $R$: the risk tolerance binding parameter which the sum of (each stock value in hand * standard deviation of the stock) cannot exceed.\n",
    "- $J$: the importance of model confidence.\n",
    "\n",
    "**Decision Variables:**\n",
    "- $x_{sd}$: how many to buy for each stock $s \\in S$ on trading day $d \\in D$.(Continuous)\n",
    "\n",
    "**Objective and Constraints:**\n",
    "$$\\begin{aligned}\n",
    "\\text{Maximize:} && \\sum_{s \\in S} (Jf1_s+p_{sd})c_{sd}x_{sd} && \\text{for each trading day $d \\in D$.}\\\\\n",
    "\\text{subject to:} \\\\\n",
    "\\text{(Risk tolerance)} && \\sum_{s \\in S} x_{sd}c_{sd}v_{sd} & \\le R \\\\\n",
    "\\text{(Available Fund)} && \\sum_{s \\in S} x_{sd}c_{sd} & \\le a_d \\\\\n",
    "\\text{(Diversity)} && c_{sd}x_{sd} & \\le Qa_{d} && \\text{for each stock $s \\in S$.} \\\\\n",
    "\\text{(Non-negativity)} && x_{sd} & \\ge 0 && \\text{for each stock $s \\in S$ for each day $d \\in D$.}\n",
    "\\end{aligned}$$\n"
   ]
  },
  {
   "cell_type": "code",
   "execution_count": 28,
   "metadata": {},
   "outputs": [],
   "source": [
    "def optimize(S, day, mod, available_fund, diversify, risk_tolerance):\n",
    "    x = mod.addVars(S, vtype=GRB.INTEGER)\n",
    "    mod.setObjective(sum((0.5*f1_scores[s] + predictions[s][day - 505][0]) * x[s] * stock_labels[s].loc[f'Day{day}', 'Close'] for s in S), sense=GRB.MAXIMIZE)\n",
    "    mod.addConstr(sum(x[s] * stock_labels[s].loc[f'Day{day}', 'Close'] * stock_labels[s].loc[f'Day{day}', 'rolling std'] for s in S) <= risk_tolerance)\n",
    "    for s in S:\n",
    "        mod.addConstr(x[s] * stock_labels[s].loc[f'Day{day}', 'Close'] <= available_fund * diversify)\n",
    "    mod.addConstr(sum(x[s] * stock_labels[s].loc[f'Day{day}', 'Close'] for s in S) <= available_fund)\n",
    "    mod.setParam('OutputFlag',False)\n",
    "    mod.optimize()\n",
    "    return mod, x"
   ]
  },
  {
   "cell_type": "code",
   "execution_count": 29,
   "metadata": {},
   "outputs": [],
   "source": [
    "def trade(stock_labels, risk_tolerance, diversify, fund=1000000, days=[d for d in range(505, 752)]):\n",
    "    S = list(stock_labels.keys())\n",
    "    holdings = deque()\n",
    "    leftover, selling = 0, 0\n",
    "    total_asset,stocknums = [], []\n",
    "    mod = Model()\n",
    "    mod.setParam('OutputFlag',False)\n",
    "    for day in days:\n",
    "        if len(holdings) > 4:\n",
    "            list_of_stocks = holdings.popleft()\n",
    "            selling = sum(list_of_stocks[s]*stock_labels[s].loc[f'Day{day}', 'Close'] for s in S)*0.99935\n",
    "        if day < 510: \n",
    "            available_fund = fund / 5 + leftover\n",
    "        else:\n",
    "            available_fund = selling + leftover\n",
    "        S = list(stock_labels.keys())\n",
    "        mod.reset()\n",
    "        model, x = optimize(S, day, mod, available_fund*0.99935, diversify, risk_tolerance)\n",
    "        number_of_stocks = {s:x[s].x for s in S}\n",
    "        holdings.append(number_of_stocks)\n",
    "        \n",
    "        leftover = available_fund - sum(x[s].x*stock_labels[s].loc[f'Day{day}', 'Close'] for s in S) * 1.00065\n",
    "\n",
    "        holding_total = 0\n",
    "        for holding in holdings:\n",
    "            holding_total += sum(holding[s]*stock_labels[s].loc[f'Day{day}', 'Close'] for s in S)\n",
    "        if len(holdings) < 5:\n",
    "            total_asset.append(leftover + fund*(5-(len(holdings)))/5 + holding_total)\n",
    "        else:\n",
    "            total_asset.append(leftover + holding_total)\n",
    "\n",
    "        stocknums.append([int(holding[s]) if holding[s] else 0 for s in S])\n",
    "\n",
    "    stock_buy_df = pd.DataFrame(stocknums, index=['Day'+str(d) for d in range(505, 752)], columns=S)\n",
    "    stock_buy_df['asset'] = total_asset\n",
    "    return stock_buy_df, holdings, leftover"
   ]
  },
  {
   "cell_type": "code",
   "execution_count": 30,
   "metadata": {},
   "outputs": [],
   "source": [
    "def performance(stock_buy_df, holdings, leftover, stock_labels, day=752):\n",
    "    total = 0\n",
    "    S = list(stock_labels.keys())\n",
    "    index, stocknums = [], []\n",
    "    for holding in holdings:\n",
    "        total += sum(holding[s]*stock_labels[s].loc[f'Day{day}', 'Close'] for s in S)*0.99935\n",
    "        index.append(f'Day{int(day)}')\n",
    "        day += 1\n",
    "    finaldays = pd.Series([total + leftover]*5, index=index)\n",
    "    asset_df = pd.DataFrame(stock_buy_df['asset'].append(finaldays),columns = ['asset'])\n",
    "    asset_df['pnl'] = asset_df.asset / asset_df.asset.shift(1) - 1\n",
    "    pnl_mean = asset_df['pnl'].mean()\n",
    "    pnl_std = asset_df['pnl'].std()\n",
    "    Sharpe_ratio = np.sqrt(252) * pnl_mean / pnl_std\n",
    "    return Sharpe_ratio, asset_df"
   ]
  },
  {
   "cell_type": "code",
   "execution_count": 31,
   "metadata": {},
   "outputs": [
    {
     "name": "stdout",
     "output_type": "stream",
     "text": [
      "Using license file C:\\Users\\andre\\gurobi.lic\n",
      "Academic license - for non-commercial use only\n"
     ]
    },
    {
     "data": {
      "text/plain": [
       "1.6563544844800486"
      ]
     },
     "execution_count": 31,
     "metadata": {},
     "output_type": "execute_result"
    }
   ],
   "source": [
    "aggressive_trade_df, aggressive_holdings, aggressive_leftover = trade(stock_labels, 50000, 1)\n",
    "aggressive_sharpe_ratio, aggressive_asset_df = performance(aggressive_trade_df, aggressive_holdings, aggressive_leftover, stock_labels)\n",
    "aggressive_sharpe_ratio"
   ]
  },
  {
   "cell_type": "code",
   "execution_count": 32,
   "metadata": {},
   "outputs": [
    {
     "data": {
      "text/html": [
       "<div>\n",
       "<style scoped>\n",
       "    .dataframe tbody tr th:only-of-type {\n",
       "        vertical-align: middle;\n",
       "    }\n",
       "\n",
       "    .dataframe tbody tr th {\n",
       "        vertical-align: top;\n",
       "    }\n",
       "\n",
       "    .dataframe thead th {\n",
       "        text-align: right;\n",
       "    }\n",
       "</style>\n",
       "<table border=\"1\" class=\"dataframe\">\n",
       "  <thead>\n",
       "    <tr style=\"text-align: right;\">\n",
       "      <th></th>\n",
       "      <th>asset</th>\n",
       "      <th>pnl</th>\n",
       "    </tr>\n",
       "  </thead>\n",
       "  <tbody>\n",
       "    <tr>\n",
       "      <th>Day505</th>\n",
       "      <td>999870.08</td>\n",
       "      <td>nan</td>\n",
       "    </tr>\n",
       "    <tr>\n",
       "      <th>Day506</th>\n",
       "      <td>1000690.68</td>\n",
       "      <td>0.00</td>\n",
       "    </tr>\n",
       "    <tr>\n",
       "      <th>Day507</th>\n",
       "      <td>998837.74</td>\n",
       "      <td>-0.00</td>\n",
       "    </tr>\n",
       "    <tr>\n",
       "      <th>Day508</th>\n",
       "      <td>995861.45</td>\n",
       "      <td>-0.00</td>\n",
       "    </tr>\n",
       "    <tr>\n",
       "      <th>Day509</th>\n",
       "      <td>979945.03</td>\n",
       "      <td>-0.02</td>\n",
       "    </tr>\n",
       "    <tr>\n",
       "      <th>...</th>\n",
       "      <td>...</td>\n",
       "      <td>...</td>\n",
       "    </tr>\n",
       "    <tr>\n",
       "      <th>Day752</th>\n",
       "      <td>1268013.10</td>\n",
       "      <td>0.04</td>\n",
       "    </tr>\n",
       "    <tr>\n",
       "      <th>Day753</th>\n",
       "      <td>1268013.10</td>\n",
       "      <td>0.00</td>\n",
       "    </tr>\n",
       "    <tr>\n",
       "      <th>Day754</th>\n",
       "      <td>1268013.10</td>\n",
       "      <td>0.00</td>\n",
       "    </tr>\n",
       "    <tr>\n",
       "      <th>Day755</th>\n",
       "      <td>1268013.10</td>\n",
       "      <td>0.00</td>\n",
       "    </tr>\n",
       "    <tr>\n",
       "      <th>Day756</th>\n",
       "      <td>1268013.10</td>\n",
       "      <td>0.00</td>\n",
       "    </tr>\n",
       "  </tbody>\n",
       "</table>\n",
       "<p>252 rows × 2 columns</p>\n",
       "</div>"
      ],
      "text/plain": [
       "            asset   pnl\n",
       "Day505  999870.08   nan\n",
       "Day506 1000690.68  0.00\n",
       "Day507  998837.74 -0.00\n",
       "Day508  995861.45 -0.00\n",
       "Day509  979945.03 -0.02\n",
       "...           ...   ...\n",
       "Day752 1268013.10  0.04\n",
       "Day753 1268013.10  0.00\n",
       "Day754 1268013.10  0.00\n",
       "Day755 1268013.10  0.00\n",
       "Day756 1268013.10  0.00\n",
       "\n",
       "[252 rows x 2 columns]"
      ]
     },
     "execution_count": 32,
     "metadata": {},
     "output_type": "execute_result"
    }
   ],
   "source": [
    "aggressive_asset_df"
   ]
  },
  {
   "cell_type": "code",
   "execution_count": 33,
   "metadata": {},
   "outputs": [
    {
     "data": {
      "text/plain": [
       "121"
      ]
     },
     "execution_count": 33,
     "metadata": {},
     "output_type": "execute_result"
    }
   ],
   "source": [
    "(aggressive_asset_df['pnl'] > 0).sum()"
   ]
  },
  {
   "cell_type": "markdown",
   "metadata": {},
   "source": [
    "---"
   ]
  },
  {
   "cell_type": "code",
   "execution_count": 34,
   "metadata": {},
   "outputs": [
    {
     "data": {
      "text/plain": [
       "1.8005250858012825"
      ]
     },
     "execution_count": 34,
     "metadata": {},
     "output_type": "execute_result"
    }
   ],
   "source": [
    "conservative_trade_df, conservative_holdings, conservative_leftover = trade(stock_labels, 30000, 0.85)\n",
    "conservative_sharpe_ratio, conservative_asset_df = performance(conservative_trade_df, conservative_holdings, conservative_leftover, stock_labels)\n",
    "conservative_sharpe_ratio"
   ]
  },
  {
   "cell_type": "code",
   "execution_count": 35,
   "metadata": {},
   "outputs": [
    {
     "data": {
      "text/html": [
       "<div>\n",
       "<style scoped>\n",
       "    .dataframe tbody tr th:only-of-type {\n",
       "        vertical-align: middle;\n",
       "    }\n",
       "\n",
       "    .dataframe tbody tr th {\n",
       "        vertical-align: top;\n",
       "    }\n",
       "\n",
       "    .dataframe thead th {\n",
       "        text-align: right;\n",
       "    }\n",
       "</style>\n",
       "<table border=\"1\" class=\"dataframe\">\n",
       "  <thead>\n",
       "    <tr style=\"text-align: right;\">\n",
       "      <th></th>\n",
       "      <th>asset</th>\n",
       "      <th>pnl</th>\n",
       "    </tr>\n",
       "  </thead>\n",
       "  <tbody>\n",
       "    <tr>\n",
       "      <th>Day505</th>\n",
       "      <td>999870.08</td>\n",
       "      <td>nan</td>\n",
       "    </tr>\n",
       "    <tr>\n",
       "      <th>Day506</th>\n",
       "      <td>1000859.30</td>\n",
       "      <td>0.00</td>\n",
       "    </tr>\n",
       "    <tr>\n",
       "      <th>Day507</th>\n",
       "      <td>999305.24</td>\n",
       "      <td>-0.00</td>\n",
       "    </tr>\n",
       "    <tr>\n",
       "      <th>Day508</th>\n",
       "      <td>996323.27</td>\n",
       "      <td>-0.00</td>\n",
       "    </tr>\n",
       "    <tr>\n",
       "      <th>Day509</th>\n",
       "      <td>988577.70</td>\n",
       "      <td>-0.01</td>\n",
       "    </tr>\n",
       "    <tr>\n",
       "      <th>...</th>\n",
       "      <td>...</td>\n",
       "      <td>...</td>\n",
       "    </tr>\n",
       "    <tr>\n",
       "      <th>Day752</th>\n",
       "      <td>1253613.36</td>\n",
       "      <td>0.05</td>\n",
       "    </tr>\n",
       "    <tr>\n",
       "      <th>Day753</th>\n",
       "      <td>1253613.36</td>\n",
       "      <td>0.00</td>\n",
       "    </tr>\n",
       "    <tr>\n",
       "      <th>Day754</th>\n",
       "      <td>1253613.36</td>\n",
       "      <td>0.00</td>\n",
       "    </tr>\n",
       "    <tr>\n",
       "      <th>Day755</th>\n",
       "      <td>1253613.36</td>\n",
       "      <td>0.00</td>\n",
       "    </tr>\n",
       "    <tr>\n",
       "      <th>Day756</th>\n",
       "      <td>1253613.36</td>\n",
       "      <td>0.00</td>\n",
       "    </tr>\n",
       "  </tbody>\n",
       "</table>\n",
       "<p>252 rows × 2 columns</p>\n",
       "</div>"
      ],
      "text/plain": [
       "            asset   pnl\n",
       "Day505  999870.08   nan\n",
       "Day506 1000859.30  0.00\n",
       "Day507  999305.24 -0.00\n",
       "Day508  996323.27 -0.00\n",
       "Day509  988577.70 -0.01\n",
       "...           ...   ...\n",
       "Day752 1253613.36  0.05\n",
       "Day753 1253613.36  0.00\n",
       "Day754 1253613.36  0.00\n",
       "Day755 1253613.36  0.00\n",
       "Day756 1253613.36  0.00\n",
       "\n",
       "[252 rows x 2 columns]"
      ]
     },
     "execution_count": 35,
     "metadata": {},
     "output_type": "execute_result"
    }
   ],
   "source": [
    "conservative_asset_df"
   ]
  },
  {
   "cell_type": "code",
   "execution_count": 36,
   "metadata": {},
   "outputs": [
    {
     "data": {
      "text/plain": [
       "127"
      ]
     },
     "execution_count": 36,
     "metadata": {},
     "output_type": "execute_result"
    }
   ],
   "source": [
    "(conservative_asset_df.pnl > 0).sum()"
   ]
  },
  {
   "cell_type": "code",
   "execution_count": 68,
   "metadata": {},
   "outputs": [
    {
     "data": {
      "text/plain": [
       "Text(0.5, 1.0, 'Trading Strategies')"
      ]
     },
     "execution_count": 68,
     "metadata": {},
     "output_type": "execute_result"
    },
    {
     "data": {
      "image/png": "[encoded data removed]",
      "text/plain": [
       "<Figure size 1080x720 with 1 Axes>"
      ]
     },
     "metadata": {
      "needs_background": "light"
     },
     "output_type": "display_data"
    }
   ],
   "source": [
    "plt.figure(figsize=(15,10))\n",
    "conservative_asset_df.asset.plot(label = 'conservative')\n",
    "naive_asset_df.asset.plot(label = 'naive')\n",
    "aggressive_asset_df.asset.plot(label = 'aggressive')\n",
    "plt.legend()\n",
    "plt.title(\"Trading Strategies\")"
   ]
  },
  {
   "cell_type": "code",
   "execution_count": null,
   "metadata": {},
   "outputs": [],
   "source": []
  }
 ],
 "metadata": {
  "kernelspec": {
   "display_name": "Python 3",
   "language": "python",
   "name": "python3"
  },
  "language_info": {
   "codemirror_mode": {
    "name": "ipython",
    "version": 3
   },
   "file_extension": ".py",
   "mimetype": "text/x-python",
   "name": "python",
   "nbconvert_exporter": "python",
   "pygments_lexer": "ipython3",
   "version": "3.7.6"
  }
 },
 "nbformat": 4,
 "nbformat_minor": 4
}
